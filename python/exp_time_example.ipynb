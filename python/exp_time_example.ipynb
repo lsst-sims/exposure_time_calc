{
 "cells": [
  {
   "cell_type": "markdown",
   "metadata": {},
   "source": [
    "Example computing signal to noise for LSST observations"
   ]
  },
  {
   "cell_type": "code",
   "execution_count": 1,
   "metadata": {
    "collapsed": true
   },
   "outputs": [],
   "source": [
    "import numpy as np\n",
    "from lsst_exp_time import lsst_snr"
   ]
  },
  {
   "cell_type": "code",
   "execution_count": 2,
   "metadata": {
    "collapsed": false
   },
   "outputs": [
    {
     "data": {
      "text/plain": [
       "7.1158738722607398"
      ]
     },
     "execution_count": 2,
     "metadata": {},
     "output_type": "execute_result"
    }
   ],
   "source": [
    "# Compute the SNR of an r=24 point source in typical conditions\n",
    "snr = lsst_snr(24, filtername='r')\n",
    "snr"
   ]
  },
  {
   "cell_type": "code",
   "execution_count": 3,
   "metadata": {
    "collapsed": false
   },
   "outputs": [
    {
     "name": "stdout",
     "output_type": "stream",
     "text": [
      "u 3.27334887074\n",
      "g 11.3313851154\n",
      "r 7.11587387226\n",
      "i 4.59446595601\n",
      "z 2.63207142995\n",
      "y 1.09622800938\n"
     ]
    }
   ],
   "source": [
    "# SNR in all filters for a flat SED object\n",
    "filters = ['u', 'g', 'r', 'i', 'z', 'y']\n",
    "for filtername in filters:\n",
    "    print filtername, lsst_snr(24, filtername=filtername)"
   ]
  },
  {
   "cell_type": "code",
   "execution_count": 4,
   "metadata": {
    "collapsed": false
   },
   "outputs": [
    {
     "name": "stdout",
     "output_type": "stream",
     "text": [
      "6.79408026595\n"
     ]
    }
   ],
   "source": [
    "# SNR in specific conditions and increased visit exposure time\n",
    "snr = lsst_snr(24, filtername='r', airmass=2., FWHMeff_zenith=1.1, sky_brightness=22.1, t_vis=60.)\n",
    "print snr"
   ]
  },
  {
   "cell_type": "code",
   "execution_count": 5,
   "metadata": {
    "collapsed": false
   },
   "outputs": [
    {
     "name": "stdout",
     "output_type": "stream",
     "text": [
      "[ 10.2855671    7.94736155   6.1866382    4.84512906   3.81345351]\n"
     ]
    }
   ],
   "source": [
    "# can compute a sequence of observations (as long as all the same filter)\n",
    "\n",
    "# have the airmass and sky brightness slowly increasing, use default seeing and filtername\n",
    "airmasses = np.linspace(1.,1.5, 5)\n",
    "sky_brightnesses = np.linspace(22., 21.5, 5)\n",
    "# Let the object be fading as well\n",
    "inmag = np.linspace(24, 24.5, 5)\n",
    "snr = lsst_snr(inmag, airmass=airmasses, sky_brightness=sky_brightnesses)\n",
    "print snr"
   ]
  },
  {
   "cell_type": "code",
   "execution_count": null,
   "metadata": {
    "collapsed": true
   },
   "outputs": [],
   "source": []
  }
 ],
 "metadata": {
  "anaconda-cloud": {},
  "kernelspec": {
   "display_name": "Python [conda root]",
   "language": "python",
   "name": "conda-root-py"
  },
  "language_info": {
   "codemirror_mode": {
    "name": "ipython",
    "version": 2
   },
   "file_extension": ".py",
   "mimetype": "text/x-python",
   "name": "python",
   "nbconvert_exporter": "python",
   "pygments_lexer": "ipython2",
   "version": "2.7.12"
  }
 },
 "nbformat": 4,
 "nbformat_minor": 1
}
